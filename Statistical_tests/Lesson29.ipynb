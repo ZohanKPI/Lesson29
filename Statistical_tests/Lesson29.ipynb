{
 "cells": [
  {
   "cell_type": "code",
   "execution_count": 7,
   "id": "031b9ad9",
   "metadata": {},
   "outputs": [
    {
     "name": "stdout",
     "output_type": "stream",
     "text": [
      "mu =  114.72\n",
      "sigma^2 =  1452.4416\n",
      "Нульову гіпотезу не можна відхилити\n"
     ]
    }
   ],
   "source": [
    "import numpy as np\n",
    "from scipy import stats\n",
    "#Нульова гіпотеза (H0) буде стверджувати, що дані слідують нормальному розподілу з середнім значенням μ = 108 і дисперсією σ^2 (яку необхідно знайти)\n",
    "xi = np.array([12, 36, 60, 84, 108, 132, 156, 180, 204])\n",
    "ni = np.array([1, 2, 4, 6, 12, 16, 6, 2, 1])\n",
    "\n",
    "mu = np.sum(xi * ni) / np.sum(ni)\n",
    "\n",
    "sigma2 = np.sum(((xi - mu) ** 2) * ni) / np.sum(ni)\n",
    "\n",
    "data = np.repeat(xi, ni)\n",
    "\n",
    "k2, p = stats.normaltest(data)\n",
    "\n",
    "alpha = 0.01\n",
    "print(\"mu = \", mu)\n",
    "print(\"sigma^2 = \", sigma2)\n",
    "\n",
    "if p < alpha:  \n",
    "    print(\"Нульову гіпотезу можна відхилити\")\n",
    "else:\n",
    "    print(\"Нульову гіпотезу не можна відхилити\")"
   ]
  },
  {
   "cell_type": "code",
   "execution_count": 8,
   "id": "97d23a44",
   "metadata": {},
   "outputs": [
    {
     "name": "stdout",
     "output_type": "stream",
     "text": [
      "a = -2.9999999999999423, b = 6.999999999999942\n",
      "Щільність розподілу = 0.10000000000000116\n"
     ]
    }
   ],
   "source": [
    "from scipy.optimize import fsolve\n",
    "\n",
    "def equations(vars):\n",
    "    a, b = vars\n",
    "    eq1 = (b-3)/(b-a) - 0.4\n",
    "    eq2 = (a+b)/2 - 2\n",
    "    return [eq1, eq2]\n",
    "\n",
    "a_b_guess = [1, 3]\n",
    "\n",
    "a, b =  fsolve(equations, a_b_guess)\n",
    "\n",
    "print(f\"a = {a}, b = {b}\")\n",
    "\n",
    "print(f\"Щільність розподілу = {1/(b-a)}\")"
   ]
  }
 ],
 "metadata": {
  "kernelspec": {
   "display_name": "Python 3 (ipykernel)",
   "language": "python",
   "name": "python3"
  },
  "language_info": {
   "codemirror_mode": {
    "name": "ipython",
    "version": 3
   },
   "file_extension": ".py",
   "mimetype": "text/x-python",
   "name": "python",
   "nbconvert_exporter": "python",
   "pygments_lexer": "ipython3",
   "version": "3.9.7"
  }
 },
 "nbformat": 4,
 "nbformat_minor": 5
}
